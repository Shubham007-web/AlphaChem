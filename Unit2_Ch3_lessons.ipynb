{
 "cells": [
  {
   "cell_type": "code",
   "execution_count": 2,
   "metadata": {},
   "outputs": [],
   "source": [
    "# import os\n",
    "# os.getcwd()\n",
    "# c:\\\\Users\\\\Lenovo\\\\Pictures\\\\AlphaChem'"
   ]
  },
  {
   "cell_type": "code",
   "execution_count": 3,
   "metadata": {},
   "outputs": [],
   "source": [
    "import openai\n",
    "from docx import Document\n",
    "import re  "
   ]
  },
  {
   "cell_type": "code",
   "execution_count": 5,
   "metadata": {},
   "outputs": [],
   "source": [
    "# Set your OpenAI API key\n",
    "import openAI_API\n",
    "openAI_api_key = openAI_API.api_key"
   ]
  },
  {
   "cell_type": "markdown",
   "metadata": {},
   "source": [
    "### Component for AI models\n",
    "- Model Name\n",
    "- Lesson Prompt Template\n",
    "- role, and content  \n",
    "\n",
    "\n",
    "**Function used in Model**: \n",
    "- generate_content_with_chat\n",
    "- lesson_prompt_template\n",
    "- generate_lesson_content\n",
    "- extract_number\n",
    "- save_lesson_content_to_docx"
   ]
  },
  {
   "cell_type": "code",
   "execution_count": 7,
   "metadata": {},
   "outputs": [],
   "source": [
    "# model name\n",
    "model_name = 'chatgpt-4o-latest'\n",
    "\n",
    "# function to handle chat-basd content genration\n",
    "def generate_content_with_chat(messages):\n",
    "    response = openai.ChatCompletion.create(\n",
    "        model = model_name,\n",
    "        messages = messages,\n",
    "        max_tokens = 9000,\n",
    "        temperature = 0.7 )\n",
    "    return response['choices'][0]['message']['content'].strip()"
   ]
  },
  {
   "cell_type": "markdown",
   "metadata": {},
   "source": [
    "### Features \n",
    "There are following parameter needed to create lesson.\n",
    "1. **Reading Score**\n",
    "2. **Lesson Objective**\n",
    "3. **Lesson Vocabulary**\n",
    "4. **Essential Questions**\n",
    "5. **Performance Expectations**\n",
    "6. **Discriplinary Core Idea**\n",
    "7. **Phenomena/Story of Unit & Chapters**\n",
    "8. **Unit, Chapter, Lesson names**"
   ]
  },
  {
   "cell_type": "code",
   "execution_count": 8,
   "metadata": {},
   "outputs": [],
   "source": [
    "# Reading Score, that tell the grade level and readibility score\n",
    "reading_score = ''' Please follow these formula in order to genrate content. Flesch Reading Ease Score >= 80, and grade level 8\n",
    "1. Flesch Reading Ease Score = 206.835 − 1.015 × ( Total Words / Total Sentences ) − 84.6 × ( Total Syllables / Total Words )\n",
    "2. Flesch-Kincaid Grade Level = 0.39 × ( Total Words / Total Sentences ) + 11.8 × ( Total Syllables / Total Words ) − 15.59\n",
    "'''"
   ]
  },
  {
   "cell_type": "code",
   "execution_count": null,
   "metadata": {},
   "outputs": [],
   "source": [
    "# lesson_objective = input(\"Enter the lesson objective: \")\n",
    "lesson_objective = \"\"\"\n",
    "\n",
    "\"\"\""
   ]
  },
  {
   "cell_type": "code",
   "execution_count": 9,
   "metadata": {},
   "outputs": [],
   "source": [
    "# Lesson Vacabulary\n",
    "# lesson_vocabulary = input(\"Enter the lesson vocabulary : \")\n",
    "lesson_vocabulary = '''\n",
    "\n",
    "\n",
    "'''\n"
   ]
  },
  {
   "cell_type": "code",
   "execution_count": 10,
   "metadata": {},
   "outputs": [],
   "source": [
    "# Essential Questions\n",
    "# Essential_Question  = input(\"Enter the Essentail Question : \")\n",
    "Essential_Question = '''      '''"
   ]
  },
  {
   "cell_type": "code",
   "execution_count": 11,
   "metadata": {},
   "outputs": [],
   "source": [
    "# Performance Expectations\n",
    "\n",
    "# Performance_Expectations = input(\"Enter the performance Expectations : \")\n",
    "Performance_Expectations = '''    '''"
   ]
  },
  {
   "cell_type": "code",
   "execution_count": 12,
   "metadata": {},
   "outputs": [],
   "source": [
    "# Disciplinary_Core_Ideas\n",
    "# Disciplinary_Core_Ideas = input(\"Enter the Discilinary Core Idea : \")\n",
    "Disciplinary_Core_Ideas = '''     '''\n"
   ]
  },
  {
   "cell_type": "code",
   "execution_count": 13,
   "metadata": {},
   "outputs": [],
   "source": [
    "# phenomenon/ Storyline\n",
    "# phenomenon  = input(\"Please Enter the unit and chapter storyline : \")\n",
    "phenomenon = '''   '''"
   ]
  },
  {
   "cell_type": "code",
   "execution_count": 14,
   "metadata": {},
   "outputs": [],
   "source": [
    "# One of the main part of whole code\n",
    "# This prompt template will genrated lesson content based on  the given  features\n",
    "\n",
    "def lesson_prompt_template(unit_name, chapter_name, lesson_name, essential_question, lesson_vocabulary, lesson_objectives, phenomenon):\n",
    "    return f\"\"\"\n",
    "    Generate a detailed and structured lesson plan for \"{lesson_name}\" in Chapter \"{chapter_name}\" of Unit \"{unit_name}\".\n",
    "    The content should be structured, consistent, and align with the following points:\n",
    "     - lesson objective: {lesson_objective}\n",
    "     - lesson_vocabulary : {lesson_vocabulary}\n",
    "     - Essential_Question : {Essential_Question}\n",
    "     - Performance_Expectations : {Performance_Expectations}\n",
    "     - Disciplinary_Core_Ideas : {Disciplinary_Core_Ideas}\n",
    "     \n",
    "    ## Unit Title\n",
    "    ## Chapter Title\n",
    "    # Lesson Title\n",
    "    ### Essential Questions:\n",
    "     Write the following Essential Questions (EQs) to ensure they drive curiosity and critical thinking:\n",
    "    - {Essential_Question}\n",
    "\n",
    "    ### 1. Big Idea:\n",
    "    - One line, which addresses the main concept of the lesson.\n",
    "    - A subordinate of the Chapter's Big Idea that addresses the main concepts in the lesson.\n",
    "\n",
    "    ### 2. Essential Questions\n",
    "    - Include the following Essential Question(s) to encourage critical thinking:\n",
    "        - {essential_question}\n",
    "\n",
    "    ### 3. Phenomenon-Based Learning\n",
    "    - The lesson should build upon the chapter's storyline and introduce a specific aspect, question, or issue that will be explored through hands-on tasks. Focus on connecting the phenomenon to the lesson's tasks and investigations.\n",
    "    - Phenomenon: {phenomenon}\n",
    "\n",
    "    ### 4. Vocabulary\n",
    "    - Define these key terms to support students’ understanding:\n",
    "        - {lesson_vocabulary}\n",
    "\n",
    "    ### 5. SMART Objectives\n",
    "    - List 3-4 Specific, Measurable, Achievable, Relevant, Time-based objectives those are in lesson objective:\n",
    "        - {lesson_objectives}\n",
    "\n",
    "    ### 6. Engage (Ignite)\n",
    "    - Start with a phenomenon-related question or task to grab attention and contitnue on the same story.\n",
    "    - Include one hands-on experiment relevant to the lesson topic, with a step-by-step procedure.\n",
    "    - Add 2-3 follow-up questions based on the activity.\n",
    "\n",
    "    ### 7. Pre-Explore (Direct Instruction)\n",
    "    - Provide background information linking the phenomenon and key concepts.\n",
    "    - Use interactive elements (notes, discussions, scaffolded questions) to break up the content.\n",
    "\n",
    "    ### 8. Evaluate (Progress Check) - Pre-Explore\n",
    "    - Frame up to 3 scaffolded questions (DOK 1-3) to connect concepts to the hands-on activity.\n",
    "\n",
    "    ### 9. Explore (Pathfinder)\n",
    "    - Guide students through a hands-on activity with clear instructions.\n",
    "    - Ensure they collect data and engage in group discussions.\n",
    "    - Use retrieval practice (quizzes or questions) to reinforce learning.\n",
    "\n",
    "    ### 10. Explain (Lightbulb) \n",
    "    - Please remember this section content should around 4500 words, that explain core and main concept of the lesson based stroyline.\n",
    "    - Provide a comprehensive and detailed explanation of the main ideas related to the lesson, spanning approximately 4000-5000 words.\n",
    "    - Ensure content follows the unit and chapter storyline Phenomenon: {phenomenon}, aligning with thelesson objective: {lesson_objective}and the Big Idea.\n",
    "    - Break down complex concepts into structured sections or subsections, making them easily digestible and go deep for 14-15 years old 4-5 pages long.\n",
    "    - Write prompts to help students make sense of the hands-on activity by themselves, based on their prior knowledge, the evidence they gathered in their inquiry activities, and discussions with the classmates.\n",
    "    - After students made their attempt, provide expansion of concepts explored in the Explore section to build a tight connection to the lessons’ LOs.  \n",
    "    - For every main concept explained, one sample solved problem is introduced where applicable and then one question for students to solve as a Progress Check.\n",
    "\n",
    "\n",
    "    ### 11. Evaluate (Progress Check) - Explain\n",
    "    - Include 3 scaffolded questions (DOK 1-3) to confirm understanding of key concepts covered in the Explain section.\n",
    "\n",
    "    ### 12. Elaborate (Power Up)\n",
    "    - Pose mini-tasks or open-ended questions encouraging deeper thinking.\n",
    "    - Allow space for additional questions to extend understanding.\n",
    "\n",
    "    ### 13. Final Evaluation\n",
    "    - Provide 1 debate question, including arguments and points for discussion.\n",
    "    - Frame 8 assessment questions:\n",
    "        - 4 multiple-choice questions (with options and correct answers).\n",
    "        - 4 long-answer questions requiring application of knowledge.\n",
    "    - Ensure alignment with the unit learning outcomes.\n",
    "\n",
    "    ### 14. Extend (Beyond the Lesson) [Optional]\n",
    "    - Suggest additional tasks, readings, or challenges related to the lesson.\n",
    "    - Activities (could include readings) and/or questions that challenge students to think about the application of what they’ve learned to new real-world situations, applications, or problems enhancing their understanding of the chapter and unit tasks.\n",
    "    - Set up the stage for future lessons. \n",
    "    - Provide opportunities for spaced practice, i.e. students review and reinforce previously learned key concepts, allowing students to revisit and reinforce their understanding over time. Spaced practice involves distributing practice and review sessions across several days or weeks to improve long-term retention of material.\n",
    "\n",
    "    \"\"\"\n"
   ]
  },
  {
   "cell_type": "code",
   "execution_count": 15,
   "metadata": {},
   "outputs": [],
   "source": [
    "# a function that help create content \n",
    "# this function can use for multiple prompt that help output  based on chain of thoughts\n",
    "def generate_lesson_content(unit_name, chapter_name, lesson_name, lesson_objective):\n",
    "    messages = [\n",
    "        {\"role\": \"system\", \"content\": f\"You are a chemistry textbook writer for age 14-15 years, and content should be easy to read for this please use these formula {reading_score} to make easy languge to read and that should greater 90, generated in a way that feels like it's written by a human and target audience is USA school grade 9.\"},\n",
    "        {\"role\": \"user\", \"content\": lesson_prompt_template(unit_name, chapter_name, lesson_name,  Essential_Question, lesson_vocabulary, lesson_objective, phenomenon)}\n",
    "    ]\n",
    "\n",
    "    # Generate the content using OpenAI's GPT model\n",
    "    return generate_content_with_chat(messages)\n",
    "\n",
    "# Function to extract numbers from unit, chapter, and lesson names for file naming\n",
    "# that help naming of a lesson \n",
    "def extract_number(text):\n",
    "    return re.search(r'\\d+', text).group()\n",
    "\n",
    "# Function to save the generated content to a .docx file with the specific naming format\n",
    "def save_lesson_content_to_docx(unit_name, chapter_name, lesson_name, lesson_content):\n",
    "    # Create a new document\n",
    "    doc = Document()\n",
    "    doc.add_heading(f'Unit: {unit_name}', level=1)\n",
    "    doc.add_heading(f'Chapter: {chapter_name}', level=2)\n",
    "    doc.add_heading(f'Lesson: {lesson_name}', level=3)\n",
    "\n",
    "    # Add the generated content to the document\n",
    "    doc.add_paragraph(lesson_content)\n",
    "\n",
    "    # Extract unit, chapter, and lesson numbers from their names for the file name\n",
    "    unit_number = extract_number(unit_name)\n",
    "    chapter_number = extract_number(chapter_name)\n",
    "    lesson_number = extract_number(lesson_name)\n",
    "\n",
    "    # Construct the file name in the format U1Ch1L4.docx\n",
    "    file_name = f'U{unit_number}Ch{chapter_number}L{lesson_number}.docx'\n",
    "\n",
    "    # Save the document with the constructed file name\n",
    "    doc.save(file_name)\n",
    "    print(f'Content saved to {file_name}')\n"
   ]
  },
  {
   "cell_type": "code",
   "execution_count": 16,
   "metadata": {},
   "outputs": [],
   "source": [
    "# Example usage to generate and save lesson content\n",
    "unit_name = \"Unit 1: Foundations of Chemistry\"\n",
    "chapter_name = \"Chapter 1: The Language of Chemistry\"\n",
    "lesson_name = \"Lesson 4: Scientific Inquiry and Experimental Design\"\n",
    "\n"
   ]
  },
  {
   "cell_type": "code",
   "execution_count": null,
   "metadata": {},
   "outputs": [],
   "source": [
    "# Generate detailed content for Engage, Explain, and Evaluate sections\n",
    "lesson_content = generate_lesson_content(unit_name, chapter_name, lesson_name,lesson_objective)\n",
    "\n",
    "# Print the generated content (optional)\n",
    "print(lesson_content)\n",
    "\n",
    "# Save the generated content to a .docx file in the format U1Ch1L4.docx\n",
    "save_lesson_content_to_docx(unit_name, chapter_name, lesson_name, lesson_content)"
   ]
  },
  {
   "cell_type": "code",
   "execution_count": null,
   "metadata": {},
   "outputs": [],
   "source": []
  },
  {
   "cell_type": "code",
   "execution_count": null,
   "metadata": {},
   "outputs": [],
   "source": []
  }
 ],
 "metadata": {
  "kernelspec": {
   "display_name": "base",
   "language": "python",
   "name": "python3"
  },
  "language_info": {
   "codemirror_mode": {
    "name": "ipython",
    "version": 3
   },
   "file_extension": ".py",
   "mimetype": "text/x-python",
   "name": "python",
   "nbconvert_exporter": "python",
   "pygments_lexer": "ipython3",
   "version": "3.12.4"
  }
 },
 "nbformat": 4,
 "nbformat_minor": 2
}
