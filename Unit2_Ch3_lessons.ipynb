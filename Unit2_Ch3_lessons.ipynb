{
 "cells": [
  {
   "cell_type": "code",
   "execution_count": 2,
   "metadata": {},
   "outputs": [],
   "source": [
    "# import os\n",
    "# os.getcwd()\n",
    "# c:\\\\Users\\\\Lenovo\\\\Pictures\\\\AlphaChem'"
   ]
  },
  {
   "cell_type": "code",
   "execution_count": 3,
   "metadata": {},
   "outputs": [],
   "source": [
    "import openai\n",
    "from docx import Document\n",
    "import re  "
   ]
  },
  {
   "cell_type": "code",
   "execution_count": 5,
   "metadata": {},
   "outputs": [],
   "source": [
    "# Set your OpenAI API key\n",
    "import openAI_API\n",
    "openAI_api_key = openAI_API.api_key"
   ]
  },
  {
   "cell_type": "markdown",
   "metadata": {},
   "source": [
    "### Component for AI models\n",
    "- Model Name\n",
    "- Lesson Prompt Template\n",
    "- role, and content  \n",
    "\n",
    "\n",
    "**Function used in Model**: \n",
    "- generate_content_with_chat\n",
    "- lesson_prompt_template\n",
    "- generate_lesson_content\n",
    "- extract_number\n",
    "- save_lesson_content_to_docx"
   ]
  },
  {
   "cell_type": "code",
   "execution_count": 7,
   "metadata": {},
   "outputs": [],
   "source": [
    "# model name\n",
    "model_name = 'chatgpt-4o-latest'\n",
    "\n",
    "# function to handle chat-basd content genration\n",
    "def generate_content_with_chat(messages):\n",
    "    response = openai.ChatCompletion.create(\n",
    "        model = model_name,\n",
    "        messages = messages,\n",
    "        max_tokens = 9000,\n",
    "        temperature = 0.7 )\n",
    "    return response['choices'][0]['message']['content'].strip()"
   ]
  },
  {
   "cell_type": "markdown",
   "metadata": {},
   "source": [
    "### Features \n",
    "There are following parameter needed to create lesson.\n",
    "1. **Reading Score**\n",
    "2. **Lesson Objective**\n",
    "3. **Lesson Vocabulary**\n",
    "4. **Essential Questions**\n",
    "5. **Performance Expectations**\n",
    "6. **Discriplinary Core Idea**\n",
    "7. **Phenomena/Story of Unit & Chapters**\n",
    "8. **Unit, Chapter, Lesson names**"
   ]
  },
  {
   "cell_type": "code",
   "execution_count": 8,
   "metadata": {},
   "outputs": [],
   "source": [
    "# Reading Score, that tell the grade level and readibility score\n",
    "reading_score = ''' Please follow these formula in order to genrate content. Flesch Reading Ease Score >= 80, and grade level 8\n",
    "1. Flesch Reading Ease Score = 206.835 − 1.015 × ( Total Words / Total Sentences ) − 84.6 × ( Total Syllables / Total Words )\n",
    "2. Flesch-Kincaid Grade Level = 0.39 × ( Total Words / Total Sentences ) + 11.8 × ( Total Syllables / Total Words ) − 15.59\n",
    "'''"
   ]
  },
  {
   "cell_type": "code",
   "execution_count": null,
   "metadata": {},
   "outputs": [],
   "source": [
    "# lesson_objective = input(\"Enter the lesson objective: \")\n",
    "lesson_objective = \"\"\"\n",
    "\n",
    "\"\"\""
   ]
  },
  {
   "cell_type": "code",
   "execution_count": 9,
   "metadata": {},
   "outputs": [],
   "source": [
    "# Lesson Vacabulary\n",
    "# lesson_vocabulary = input(\"Enter the lesson vocabulary : \")\n",
    "lesson_vocabulary = '''\n",
    "\n",
    "\n",
    "'''\n"
   ]
  },
  {
   "cell_type": "code",
   "execution_count": 10,
   "metadata": {},
   "outputs": [],
   "source": [
    "# Essential Questions\n",
    "# Essential_Question  = input(\"Enter the Essentail Question : \")\n",
    "Essential_Question = '''      '''"
   ]
  },
  {
   "cell_type": "code",
   "execution_count": 11,
   "metadata": {},
   "outputs": [],
   "source": [
    "# Performance Expectations\n",
    "\n",
    "# Performance_Expectations = input(\"Enter the performance Expectations : \")\n",
    "Performance_Expectations = '''    '''"
   ]
  },
  {
   "cell_type": "code",
   "execution_count": 12,
   "metadata": {},
   "outputs": [],
   "source": [
    "# Disciplinary_Core_Ideas\n",
    "# Disciplinary_Core_Ideas = input(\"Enter the Discilinary Core Idea : \")\n",
    "Disciplinary_Core_Ideas = '''     '''\n"
   ]
  },
  {
   "cell_type": "code",
   "execution_count": 13,
   "metadata": {},
   "outputs": [],
   "source": [
    "# phenomenon/ Storyline\n",
    "# phenomenon  = input(\"Please Enter the unit and chapter storyline : \")\n",
    "phenomenon = '''   '''"
   ]
  },
  {
   "cell_type": "code",
   "execution_count": null,
   "metadata": {},
   "outputs": [],
   "source": []
  }
 ],
 "metadata": {
  "kernelspec": {
   "display_name": "base",
   "language": "python",
   "name": "python3"
  },
  "language_info": {
   "codemirror_mode": {
    "name": "ipython",
    "version": 3
   },
   "file_extension": ".py",
   "mimetype": "text/x-python",
   "name": "python",
   "nbconvert_exporter": "python",
   "pygments_lexer": "ipython3",
   "version": "3.12.4"
  }
 },
 "nbformat": 4,
 "nbformat_minor": 2
}
