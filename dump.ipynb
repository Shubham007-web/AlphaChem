{
 "cells": [
  {
   "cell_type": "code",
   "execution_count": 1,
   "metadata": {},
   "outputs": [
    {
     "name": "stdout",
     "output_type": "stream",
     "text": [
      "hello\n"
     ]
    }
   ],
   "source": [
    "print(\"hello\")"
   ]
  },
  {
   "cell_type": "code",
   "execution_count": 3,
   "metadata": {},
   "outputs": [
    {
     "name": "stdout",
     "output_type": "stream",
     "text": [
      "Formatted document saved as C:\\Users\\Lenovo\\Pictures\\AlphaChem\\Cleaned_U2Ch3L1.docx\n"
     ]
    }
   ],
   "source": [
    "from docx import Document\n",
    "\n",
    "# Function to read text from a .docx file\n",
    "def read_docx(file_path):\n",
    "    doc = Document(file_path)\n",
    "    full_text = []\n",
    "    for para in doc.paragraphs:\n",
    "        full_text.append(para.text)\n",
    "    return '\\n'.join(full_text)\n",
    "\n",
    "# Function to clean and format the .docx content into a structured format\n",
    "def clean_and_format_docx(input_file_path, output_file_path):\n",
    "    # Read the raw text from the input .docx file\n",
    "    raw_text = read_docx(input_file_path)\n",
    "\n",
    "    # Create a new document for saving the cleaned content\n",
    "    doc = Document()\n",
    "\n",
    "    # Split the raw text into lines for processing\n",
    "    lines = raw_text.split('\\n')\n",
    "\n",
    "    # Iterate through each line of the text\n",
    "    for line in lines:\n",
    "        line = line.strip()\n",
    "\n",
    "        # Skip empty lines\n",
    "        if not line:\n",
    "            continue\n",
    "\n",
    "        # Format headings\n",
    "        if line.startswith('## Unit Title'):\n",
    "            doc.add_heading(line.replace('## Unit Title: ', ''), level=1)\n",
    "        elif line.startswith('## Chapter Title'):\n",
    "            doc.add_heading(line.replace('## Chapter Title: ', ''), level=2)\n",
    "        elif line.startswith('# Lesson Title'):\n",
    "            doc.add_heading(line.replace('# Lesson Title: ', ''), level=3)\n",
    "        elif line.startswith('###'):\n",
    "            doc.add_heading(line.replace('### ', ''), level=4)\n",
    "\n",
    "        # Format bold text\n",
    "        elif '**' in line:\n",
    "            bold_text = line.replace('**', '')  # Remove the markdown-style bold markers\n",
    "            para = doc.add_paragraph()\n",
    "            run = para.add_run(bold_text)\n",
    "            run.bold = True\n",
    "\n",
    "        # Format bullet points or numbered lists\n",
    "        elif line.startswith('- ') or line[0].isdigit():\n",
    "            doc.add_paragraph(line, style='List Bullet' if line.startswith('-') else 'List Number')\n",
    "\n",
    "        # Handle paragraphs\n",
    "        elif '---' not in line:\n",
    "            doc.add_paragraph(line)\n",
    "\n",
    "    # Save the cleaned and formatted content into the output .docx file\n",
    "    doc.save(output_file_path)\n",
    "    print(f\"Formatted document saved as {output_file_path}\")\n",
    "\n",
    "# Input and output file paths\n",
    "input_file_path = r'C:\\Users\\Lenovo\\Pictures\\AlphaChem\\U2Ch3L1.docx'\n",
    "output_file_path = r'C:\\Users\\Lenovo\\Pictures\\AlphaChem\\Cleaned_U2Ch3L1.docx'\n",
    "\n",
    "# Call the function to clean and format the content\n",
    "clean_and_format_docx(input_file_path, output_file_path)\n"
   ]
  },
  {
   "cell_type": "code",
   "execution_count": null,
   "metadata": {},
   "outputs": [],
   "source": []
  }
 ],
 "metadata": {
  "kernelspec": {
   "display_name": "base",
   "language": "python",
   "name": "python3"
  },
  "language_info": {
   "codemirror_mode": {
    "name": "ipython",
    "version": 3
   },
   "file_extension": ".py",
   "mimetype": "text/x-python",
   "name": "python",
   "nbconvert_exporter": "python",
   "pygments_lexer": "ipython3",
   "version": "3.12.4"
  }
 },
 "nbformat": 4,
 "nbformat_minor": 2
}
