{
 "cells": [
  {
   "cell_type": "code",
   "execution_count": null,
   "metadata": {},
   "outputs": [],
   "source": [
    "\n",
    "# # Function to extract numbers from unit, chapter, and lesson names for file naming\n",
    "# # that help naming of a lesson \n",
    "# def extract_number(text):\n",
    "#     return re.search(r'\\d+', text).group()\n",
    "\n",
    "# # Function to save the generated content to a .docx file with the specific naming format\n",
    "# def save_lesson_content_to_docx(unit_name, chapter_name, lesson_name, lesson_content):\n",
    "#     # Create a new document\n",
    "#     doc = Document()\n",
    "#     doc.add_heading(f'Unit: {unit_name}', level=1)\n",
    "#     doc.add_heading(f'Chapter: {chapter_name}', level=2)\n",
    "#     doc.add_heading(f'Lesson: {lesson_name}', level=3)\n",
    "\n",
    "#     # Add the generated content to the document\n",
    "#     doc.add_paragraph(lesson_content)\n",
    "\n",
    "#     # Extract unit, chapter, and lesson numbers from their names for the file name\n",
    "#     unit_number = extract_number(unit_name)\n",
    "#     chapter_number = extract_number(chapter_name)\n",
    "#     lesson_number = extract_number(lesson_name)\n",
    "\n",
    "#     # Construct the file name in the format U1Ch1L4.docx\n",
    "#     file_name = f'U{unit_number}Ch{chapter_number}L{lesson_number}.docx'\n",
    "\n",
    "#     # Save the document with the constructed file name\n",
    "#     doc.save(file_name)\n",
    "#     print(f'Content saved to {file_name}')\n"
   ]
  },
  {
   "cell_type": "code",
   "execution_count": null,
   "metadata": {},
   "outputs": [],
   "source": []
  }
 ],
 "metadata": {
  "language_info": {
   "name": "python"
  }
 },
 "nbformat": 4,
 "nbformat_minor": 2
}
